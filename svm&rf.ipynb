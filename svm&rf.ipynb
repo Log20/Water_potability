{
 "cells": [
  {
   "cell_type": "code",
   "execution_count": null,
   "metadata": {},
   "outputs": [],
   "source": [
    "import pandas as pd\n",
    "import numpy as np\n",
    "import matplotlib.pyplot as plt\n",
    "from sklearn.model_selection import train_test_split\n",
    "from sklearn.svm import SVC\n",
    "from sklearn.metrics import accuracy_score, classification_report\n",
    "\n",
    "# 讀取檔案\n",
    "df = pd.read_csv(\"water_potability.csv\")\n",
    "\n",
    "# 填充缺失值\n",
    "df[\"ph\"].fillna(value=df[\"ph\"].median(), inplace=True)\n",
    "df[\"Sulfate\"].fillna(value=df[\"Sulfate\"].median(), inplace=True)\n",
    "df[\"Trihalomethanes\"].fillna(value=df[\"Trihalomethanes\"].median(), inplace=True)\n",
    "df.isnull().sum()\n",
    "\n",
    "# 切分特徵和目標變量\n",
    "X = df.drop(\"Potability\", axis=1)\n",
    "y = df[\"Potability\"]\n",
    "\n",
    "# 分割資料集為訓練集和測試集\n",
    "X_train, X_test, y_train, y_test = train_test_split(X, y, test_size=0.2, random_state=42)"
   ]
  },
  {
   "cell_type": "code",
   "execution_count": null,
   "metadata": {},
   "outputs": [],
   "source": [
    "#SVM\n",
    "# 初始化 SVM 分類器\n",
    "svm_classifier = SVC(kernel='linear')\n",
    "\n",
    "# 訓練 SVM 模型\n",
    "svm_classifier.fit(X_train, y_train)\n",
    "\n",
    "# 使用測試集進行預測\n",
    "y_pred = svm_classifier.predict(X_test)\n",
    "\n",
    "# 評估模型準確率\n",
    "accuracy = accuracy_score(y_test, y_pred)\n",
    "print(f\"模型準確率：{accuracy:.2f}\")\n",
    "\n",
    "# 顯示分類報告\n",
    "print(\"分類報告：\")\n",
    "print(classification_report(y_test, y_pred))"
   ]
  },
  {
   "cell_type": "code",
   "execution_count": null,
   "metadata": {},
   "outputs": [],
   "source": [
    "from mpl_toolkits.mplot3d import Axes3D\n",
    "\n",
    "# Assuming X has three features\n",
    "fig = plt.figure(figsize=(8, 6))\n",
    "ax = fig.add_subplot(111, projection='3d')\n",
    "\n",
    "# Create a meshgrid of feature values\n",
    "x_min, x_max = X.iloc[:, 0].min() - 1, X.iloc[:, 0].max() + 1\n",
    "y_min, y_max = X.iloc[:, 1].min() - 1, X.iloc[:, 1].max() + 1\n",
    "z_min, z_max = X.iloc[:, 2].min() - 1, X.iloc[:, 2].max() + 1\n",
    "xx, yy, zz = np.meshgrid(np.arange(x_min, x_max, 0.1),\n",
    "                         np.arange(y_min, y_max, 0.1),\n",
    "                         np.arange(z_min, z_max, 0.1))\n",
    "\n",
    "# Make predictions on the meshgrid\n",
    "Z = svm_classifier.predict(np.c_[xx.ravel(), yy.ravel(), zz.ravel()])\n",
    "Z = Z.reshape(xx.shape)\n",
    "\n",
    "# Plot the decision boundary\n",
    "ax.scatter(X.iloc[:, 0], X.iloc[:, 1], X.iloc[:, 2], c=y, marker='o', s=50, linewidth=1)\n",
    "ax.set_xlabel(\"Feature 1\")\n",
    "ax.set_ylabel(\"Feature 2\")\n",
    "ax.set_zlabel(\"Feature 3\")\n",
    "\n",
    "ax.contour3D(xx, yy, zz, Z, cmap='viridis', alpha=0.5)\n",
    "plt.title(\"SVM Decision Boundary in 3D\")\n",
    "plt.show()\n"
   ]
  },
  {
   "cell_type": "code",
   "execution_count": null,
   "metadata": {},
   "outputs": [],
   "source": [
    "from sklearn.ensemble import RandomForestClassifier"
   ]
  },
  {
   "cell_type": "code",
   "execution_count": null,
   "metadata": {},
   "outputs": [],
   "source": [
    "#RandomForest\n",
    "# 創建一個隨機森林分類器\n",
    "rf_classifier = RandomForestClassifier(n_estimators=100, random_state=42)\n",
    "\n",
    "# 訓練模型\n",
    "rf_classifier.fit(X_train, y_train)\n",
    "\n",
    "# 使用測試集進行預測\n",
    "y_pred = rf_classifier.predict(X_test)\n",
    "\n",
    "# 計算模型的準確度\n",
    "accuracy = accuracy_score(y_test, y_pred)\n",
    "print(f\"模型的準確度: {accuracy}\")\n",
    "\n",
    "# 列印分類報告\n",
    "report = classification_report(y_test, y_pred)\n",
    "print(\"分類報告:\\n\", report)\n",
    "\n",
    "plt.show()\n"
   ]
  }
 ],
 "metadata": {
  "kernelspec": {
   "display_name": "Python 3",
   "language": "python",
   "name": "python3"
  },
  "language_info": {
   "codemirror_mode": {
    "name": "ipython",
    "version": 3
   },
   "file_extension": ".py",
   "mimetype": "text/x-python",
   "name": "python",
   "nbconvert_exporter": "python",
   "pygments_lexer": "ipython3",
   "version": "3.10.11"
  }
 },
 "nbformat": 4,
 "nbformat_minor": 2
}
