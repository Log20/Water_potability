{
  "cells": [
    {
      "cell_type": "code",
      "execution_count": null,
      "metadata": {
        "id": "vyoQEKk17SIs"
      },
      "outputs": [],
      "source": [
        "# 導入函式庫以及讀取資料\n",
        "import pandas as pd\n",
        "from matplotlib import pyplot as plt\n",
        "import seaborn as sns\n",
        "from sklearn.model_selection import train_test_split, GridSearchCV, cross_val_score\n",
        "from sklearn.metrics import accuracy_score, classification_report, confusion_matrix\n",
        "from sklearn.tree import export_text, plot_tree\n",
        "from sklearn.neighbors import KNeighborsClassifier\n",
        "from sklearn.preprocessing import StandardScaler\n",
        "from sklearn.svm import SVC\n",
        "from sklearn.ensemble import RandomForestClassifier\n",
        "from sklearn.linear_model import LogisticRegression\n",
        "from sklearn.tree import DecisionTreeClassifier\n",
        "import numpy as np\n",
        "\n",
        "df = pd.read_csv(\"water_potability.csv\")"
      ]
    },
    {
      "cell_type": "code",
      "execution_count": null,
      "metadata": {
        "colab": {
          "base_uri": "https://localhost:8080/",
          "height": 1000
        },
        "id": "ZrT-mcpr7SIy",
        "outputId": "ac3b5c1e-1d86-4dba-9244-555fa228bf4a"
      },
      "outputs": [],
      "source": [
        "# 特徵分布分析\n",
        "df.hist(figsize=(15, 15))\n",
        "plt.show()"
      ]
    },
    {
      "cell_type": "code",
      "execution_count": null,
      "metadata": {
        "colab": {
          "base_uri": "https://localhost:8080/",
          "height": 740
        },
        "id": "eYXdB4Op7SIz",
        "outputId": "bb89ada3-3c11-467e-d647-c6145a16801a"
      },
      "outputs": [],
      "source": [
        "# 分析特徵相依性\n",
        "plt.figure(figsize=(8, 8))\n",
        "sns.heatmap(df.corr(), annot=True, linewidths=1, square=True)"
      ]
    },
    {
      "cell_type": "code",
      "execution_count": null,
      "metadata": {
        "colab": {
          "base_uri": "https://localhost:8080/"
        },
        "id": "vCzhvs417SI0",
        "outputId": "923b89fe-5f2f-4812-e371-ad274628ad21"
      },
      "outputs": [],
      "source": [
        "# 填補空缺值\n",
        "print(df.isnull().sum())\n",
        "print(\"----------------\")\n",
        "print(\"填補空缺值...\")\n",
        "df[\"ph\"].fillna(value=df[\"ph\"].median(), inplace=True)\n",
        "df[\"Sulfate\"].fillna(value=df[\"Sulfate\"].median(), inplace=True)\n",
        "df[\"Trihalomethanes\"].fillna(value=df[\"Trihalomethanes\"].median(), inplace=True)\n",
        "print(\"----------------\")\n",
        "print(\"確認填補結果：\")\n",
        "print(df.isnull().sum())"
      ]
    },
    {
      "cell_type": "code",
      "execution_count": null,
      "metadata": {
        "id": "gfdu6uSO7SI1"
      },
      "outputs": [],
      "source": [
        "# 切分特徵和目標變量\n",
        "X = df.drop(\"Potability\", axis=1)\n",
        "y = df[\"Potability\"]\n",
        "# 切分訓練集和測試集\n",
        "X_train, X_test, y_train, y_test = train_test_split(\n",
        "    X, y, test_size=0.2, random_state=42\n",
        ")"
      ]
    },
    {
      "cell_type": "code",
      "execution_count": null,
      "metadata": {
        "colab": {
          "base_uri": "https://localhost:8080/",
          "height": 1000
        },
        "id": "1dSCpQuhNXaW",
        "outputId": "d1e034f4-1347-4e1a-8ad2-6bfe09be9bf9"
      },
      "outputs": [],
      "source": [
        "# 決策樹\n",
        "model_param = {\n",
        "    \"max_depth\": [i for i in range(1, 21)],\n",
        "    \"max_features\": [i for i in range(1, len(X.columns) + 1)],\n",
        "}\n",
        "grid_search = GridSearchCV(DecisionTreeClassifier(), model_param, cv=5)\n",
        "grid_search.fit(X_train, y_train)\n",
        "print(grid_search.best_params_)\n",
        "print(grid_search.best_score_)\n",
        "best_param = grid_search.best_params_\n",
        "# 建立決策樹模型\n",
        "model = DecisionTreeClassifier(\n",
        "    max_features=best_param[\"max_features\"], max_depth=best_param[\"max_depth\"]\n",
        ")\n",
        "model.fit(X_train, y_train)\n",
        "# 進行預測\n",
        "y_pred = model.predict(X_test)\n",
        "# 評估模型性能\n",
        "accuracy = accuracy_score(y_test, y_pred)\n",
        "print(f\"\\nDecisionTree Accuracy: {accuracy}\\n\")\n",
        "# 分類報告\n",
        "class_report = classification_report(y_test, y_pred)\n",
        "print(\"DecisionTree Classification Report:\")\n",
        "print(class_report)\n",
        "# 混淆矩陣\n",
        "conf_matrix = confusion_matrix(y_test, y_pred)\n",
        "# 使用Seaborn來繪製熱力圖\n",
        "plt.figure(figsize=(5, 3))\n",
        "sns.heatmap(\n",
        "    conf_matrix,\n",
        "    annot=True,\n",
        "    fmt=\"d\",\n",
        "    cmap=\"YlOrBr\",\n",
        "    cbar=False,\n",
        "    xticklabels=[\"Non-Potable\", \"Potable\"],\n",
        "    yticklabels=[\"Non-Potable\", \"Potable\"],\n",
        ")\n",
        "plt.xlabel(\"Predicted\")\n",
        "plt.ylabel(\"True\")\n",
        "plt.title(\"DecisionTree Confusion Matrix\")\n",
        "plt.show()\n",
        "# 特徵名稱\n",
        "feature_names = X.columns.tolist()\n",
        "# 可視化決策樹\n",
        "plt.figure(figsize=(15, 10))\n",
        "plot_tree(\n",
        "    model,\n",
        "    feature_names=feature_names,\n",
        "    class_names=[\"Non-Potable\", \"Potable\"],\n",
        "    filled=True,\n",
        "    rounded=True,\n",
        ")\n",
        "plt.show()\n",
        "\n",
        "\n",
        "# 交叉驗證\n",
        "cross_val_scores = cross_val_score(model, X, y, cv=5)\n",
        "print(f\"Cross-Validation Scores: {cross_val_scores}\")\n",
        "print(f\"Mean Accuracy: {cross_val_scores.mean()}\")"
      ]
    },
    {
      "cell_type": "code",
      "execution_count": null,
      "metadata": {
        "colab": {
          "base_uri": "https://localhost:8080/",
          "height": 645
        },
        "id": "f560gr-EYVas",
        "outputId": "cc49c718-a34d-4f9c-b23b-b7cd33d302d4"
      },
      "outputs": [],
      "source": [
        "# KNearestNeighbor\n",
        "# 特徵標準化\n",
        "scaler = StandardScaler()\n",
        "X_train_scaled = scaler.fit_transform(X_train)\n",
        "X_test_scaled = scaler.transform(X_test)\n",
        "\n",
        "\n",
        "# 使用網格搜索尋找最佳K值\n",
        "model_param = {\"n_neighbors\": range(1, 21)}\n",
        "grid_search = GridSearchCV(KNeighborsClassifier(), model_param, cv=5)\n",
        "grid_search.fit(X_train_scaled, y_train)\n",
        "print(grid_search.best_params_)\n",
        "print(grid_search.best_score_)\n",
        "best_k = grid_search.best_params_[\"n_neighbors\"]\n",
        "\n",
        "\n",
        "# 使用最佳K值擬合新的KNN模型\n",
        "knn = KNeighborsClassifier(n_neighbors=best_k)\n",
        "knn.fit(X_train_scaled, y_train)\n",
        "\n",
        "\n",
        "# 預測\n",
        "y_pred_best = knn.predict(X_test_scaled)\n",
        "\n",
        "\n",
        "# 評估模型性能\n",
        "accuracy = accuracy_score(y_test, y_pred_best)\n",
        "classification_rep = classification_report(y_test, y_pred_best)\n",
        "\n",
        "\n",
        "# 分類報告\n",
        "print(f\"\\nKNN Accuracy: {accuracy}\\n\")\n",
        "print(f\"KNN Classification Report:\\n{classification_rep}\")\n",
        "\n",
        "\n",
        "# 使用Seaborn來繪製混淆矩陣\n",
        "conf_matrix_best = confusion_matrix(y_test, y_pred_best)\n",
        "plt.figure(figsize=(5, 3))\n",
        "sns.heatmap(\n",
        "    conf_matrix_best,\n",
        "    annot=True,\n",
        "    fmt=\"d\",\n",
        "    cmap=\"YlOrBr\",\n",
        "    cbar=False,\n",
        "    xticklabels=[\"Non-Potable\", \"Potable\"],\n",
        "    yticklabels=[\"Non-Potable\", \"Potable\"],\n",
        ")\n",
        "plt.xlabel(\"Predicted\")\n",
        "plt.ylabel(\"True\")\n",
        "plt.title(\"KNN Confusion Matrix\")\n",
        "plt.show()\n",
        "\n",
        "\n",
        "# 交叉驗證\n",
        "cv_val_scores = cross_val_score(knn, X, y, cv=5)\n",
        "print(f\"\\nCross-Validation Scores: {cv_val_scores}\")\n",
        "print(f\"Mean Accuracy: {cv_val_scores.mean()}\")"
      ]
    },
    {
      "cell_type": "code",
      "execution_count": null,
      "metadata": {
        "colab": {
          "base_uri": "https://localhost:8080/",
          "height": 392
        },
        "id": "vzJunKwXQQYy",
        "outputId": "bc2eb6ad-02d6-40a4-ebf0-f810aabd555c"
      },
      "outputs": [],
      "source": [
        "# 取前兩個特徵用於可視化\n",
        "X_2d = X[[\"ph\", \"Hardness\"]]\n",
        "# 設定模型和參數\n",
        "knn_vis = KNeighborsClassifier(n_neighbors=best_k)\n",
        "# 訓練模型\n",
        "knn_vis.fit(X_2d, y)\n",
        "# 繪製決策邊界\n",
        "h = 0.02\n",
        "x_min, x_max = X_2d.iloc[:, 0].min() - 1, X_2d.iloc[:, 0].max() + 1\n",
        "y_min, y_max = X_2d.iloc[:, 1].min() - 1, X_2d.iloc[:, 1].max() + 1\n",
        "xx, yy = np.meshgrid(np.arange(x_min, x_max, h), np.arange(y_min, y_max, h))\n",
        "Z = knn_vis.predict(np.c_[xx.ravel(), yy.ravel()])\n",
        "Z = Z.reshape(xx.shape)\n",
        "# 繪製數據點和決策邊界\n",
        "plt.figure(figsize=(10, 6))\n",
        "plt.contourf(xx, yy, Z, cmap=plt.cm.coolwarm, alpha=0.3)\n",
        "plt.scatter(\n",
        "    X_2d.iloc[:, 0], X_2d.iloc[:, 1], c=y, cmap=plt.cm.coolwarm, edgecolors=\"k\", s=50\n",
        ")\n",
        "plt.xlabel(\"ph\")\n",
        "plt.ylabel(\"Hardness\")\n",
        "plt.title(f\"KNN Decision Boundaries (k={best_k})\")\n",
        "plt.show()"
      ]
    },
    {
      "cell_type": "code",
      "execution_count": null,
      "metadata": {},
      "outputs": [],
      "source": [
        "# 邏輯回歸\n",
        "lr_model = LogisticRegression()\n",
        "lr_model.fit(X_train, y_train)\n",
        "lr_y = lr_model.predict(X_test)\n",
        "print(accuracy_score(lr_y, y_test))\n",
        "feat_list = []\n",
        "# Make a dataframe of Coefficients and Feature Names\n",
        "for feature in zip(X, lr_model.coef_[0]):\n",
        "    feat_list.append(feature)\n",
        "# create DataFrame using data\n",
        "df_imp = pd.DataFrame(feat_list, columns=[\"FEATURE\", \"COEFFICIENT\"])\n",
        "df_imp.sort_values(by=\"COEFFICIENT\", ascending=False)"
      ]
    }
  ],
  "metadata": {
    "accelerator": "GPU",
    "colab": {
      "gpuType": "T4",
      "provenance": []
    },
    "kernelspec": {
      "display_name": "Python 3",
      "name": "python3"
    },
    "language_info": {
      "codemirror_mode": {
        "name": "ipython",
        "version": 3
      },
      "file_extension": ".py",
      "mimetype": "text/x-python",
      "name": "python",
      "nbconvert_exporter": "python",
      "pygments_lexer": "ipython3",
      "version": "3.10.11"
    }
  },
  "nbformat": 4,
  "nbformat_minor": 0
}
