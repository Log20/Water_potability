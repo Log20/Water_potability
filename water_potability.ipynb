{
  "cells": [
    {
      "cell_type": "code",
      "execution_count": null,
      "metadata": {
        "id": "vyoQEKk17SIs"
      },
      "outputs": [],
      "source": [
        "#123\n",
        "import pandas as pd\n",
        "#aabbccdee\n",
        "df = pd.read_csv(\"water_potability.csv\")"
      ]
    },
    {
      "cell_type": "code",
      "execution_count": null,
      "metadata": {
        "colab": {
          "base_uri": "https://localhost:8080/",
          "height": 1000
        },
        "id": "ZrT-mcpr7SIy",
        "outputId": "ac3b5c1e-1d86-4dba-9244-555fa228bf4a"
      },
      "outputs": [],
      "source": [
        "from matplotlib import pyplot as plt\n",
        "\n",
        "df.hist(figsize=(15, 15))\n",
        "plt.show()"
      ]
    },
    {
      "cell_type": "code",
      "execution_count": null,
      "metadata": {
        "colab": {
          "base_uri": "https://localhost:8080/",
          "height": 740
        },
        "id": "eYXdB4Op7SIz",
        "outputId": "bb89ada3-3c11-467e-d647-c6145a16801a"
      },
      "outputs": [],
      "source": [
        "from numpy import true_divide\n",
        "import seaborn as sns\n",
        "\n",
        "plt.figure(figsize=(8, 8))\n",
        "sns.heatmap(df.corr(), annot=True, linewidths=1, square=True)"
      ]
    },
    {
      "cell_type": "code",
      "execution_count": null,
      "metadata": {
        "colab": {
          "base_uri": "https://localhost:8080/"
        },
        "id": "vCzhvs417SI0",
        "outputId": "923b89fe-5f2f-4812-e371-ad274628ad21"
      },
      "outputs": [],
      "source": [
        "df.isnull().sum()"
      ]
    },
    {
      "cell_type": "code",
      "execution_count": null,
      "metadata": {
        "colab": {
          "base_uri": "https://localhost:8080/"
        },
        "id": "BO7a_tGQ7SI1",
        "outputId": "c2cc499d-13ed-4653-b934-20aa8b2584f6"
      },
      "outputs": [],
      "source": [
        "df[\"ph\"].fillna(value=df[\"ph\"].median(), inplace=True)\n",
        "df[\"Sulfate\"].fillna(value=df[\"Sulfate\"].median(), inplace=True)\n",
        "df[\"Trihalomethanes\"].fillna(value=df[\"Trihalomethanes\"].median(), inplace=True)\n",
        "df.isnull().sum()"
      ]
    },
    {
      "cell_type": "code",
      "execution_count": null,
      "metadata": {
        "id": "gfdu6uSO7SI1"
      },
      "outputs": [],
      "source": [
        "from sklearn.neighbors import KNeighborsClassifier\n",
        "from sklearn.svm import SVC\n",
        "from sklearn.ensemble import RandomForestClassifier\n",
        "from sklearn.linear_model import LogisticRegression\n",
        "from sklearn.tree import DecisionTreeClassifier\n",
        "\n",
        "lr=LogisticRegression()\n",
        "tree=DecisionTreeClassifier()\n",
        "forest=RandomForestClassifier()\n",
        "svm=SVC()\n",
        "knn=KNeighborsClassifier()"
      ]
    },
    {
      "cell_type": "code",
      "execution_count": null,
      "metadata": {
        "colab": {
          "base_uri": "https://localhost:8080/",
          "height": 1000
        },
        "id": "1dSCpQuhNXaW",
        "outputId": "d1e034f4-1347-4e1a-8ad2-6bfe09be9bf9"
      },
      "outputs": [],
      "source": [
        "#決策樹\n",
        "from sklearn.model_selection import GridSearchCV,train_test_split,cross_val_score\n",
        "from sklearn.metrics import accuracy_score, classification_report, confusion_matrix\n",
        "from sklearn.tree import plot_tree\n",
        "import seaborn as sns\n",
        "import matplotlib.pyplot as plt\n",
        "\n",
        "# 切分特徵和目標變量\n",
        "X = df.drop(\"Potability\", axis=1)\n",
        "y = df[\"Potability\"]\n",
        "\n",
        "# 切分訓練集和測試集\n",
        "X_train, X_test, y_train, y_test = train_test_split(X, y, test_size=0.2, random_state=42)\n",
        "\n",
        "DecisionTree_model_param={'max_depth':[i for i in range(1,101)],'max_features':[i for i in range(1, len(X.columns) + 1)]}\n",
        "DecisionTree_grid_search=GridSearchCV(DecisionTreeClassifier(),DecisionTree_model_param,cv=5)\n",
        "DecisionTree_grid_search.fit(X_train,y_train)\n",
        "print(DecisionTree_grid_search.best_params_)\n",
        "print(DecisionTree_grid_search.best_score_)\n",
        "best_param=DecisionTree_grid_search.best_params_\n",
        "\n",
        "#建立決策樹模型\n",
        "DecisionTree_model = DecisionTreeClassifier(max_features=best_param['max_features'],max_depth=best_param['max_depth'])\n",
        "DecisionTree_model.fit(X_train, y_train)\n",
        "\n",
        "#進行預測\n",
        "y_pred = DecisionTree_model.predict(X_test)\n",
        "\n",
        "# 評估模型性能\n",
        "DecisionTree_accuracy = accuracy_score(y_test, y_pred)\n",
        "print(f\"\\nDecisionTree Accuracy: {DecisionTree_accuracy}\\n\")\n",
        "\n",
        "# 分類報告\n",
        "DecisionTree_class_report = classification_report(y_test, y_pred)\n",
        "print(\"DecisionTree Classification Report:\")\n",
        "print(DecisionTree_class_report)\n",
        "\n",
        "# 混淆矩陣\n",
        "DecisionTree_conf_matrix = confusion_matrix(y_test, y_pred)\n",
        "\n",
        "# 使用Seaborn來繪製熱力圖\n",
        "plt.figure(figsize=(5, 3))\n",
        "sns.heatmap(DecisionTree_conf_matrix, annot=True, fmt='d', cmap='YlOrBr', cbar=False,\n",
        "            xticklabels=[\"Non-Potable\", \"Potable\"],\n",
        "            yticklabels=[\"Non-Potable\", \"Potable\"])\n",
        "plt.xlabel('Predicted')\n",
        "plt.ylabel('True')\n",
        "plt.title('DecisionTree Confusion Matrix')\n",
        "plt.show()\n",
        "\n",
        "# 特徵名稱\n",
        "feature_names = X.columns.tolist()\n",
        "\n",
        "# 可視化決策樹\n",
        "plt.figure(figsize=(15, 10))\n",
        "plot_tree(DecisionTree_model, feature_names=feature_names, class_names=[\"Non-Potable\", \"Potable\"], filled=True, rounded=True)\n",
        "plt.show()\n",
        "\n",
        "# 交叉驗證\n",
        "cross_val_scores = cross_val_score(DecisionTree_model, X, y, cv=5)\n",
        "print(f\"Cross-Validation Scores: {cross_val_scores}\")\n",
        "print(f\"Mean Accuracy: {cross_val_scores.mean()}\")"
      ]
    },
    {
      "cell_type": "code",
      "execution_count": null,
      "metadata": {
        "colab": {
          "base_uri": "https://localhost:8080/",
          "height": 645
        },
        "id": "f560gr-EYVas",
        "outputId": "cc49c718-a34d-4f9c-b23b-b7cd33d302d4"
      },
      "outputs": [],
      "source": [
        "#KNN\n",
        "\n",
        "from sklearn.neighbors import KNeighborsClassifier\n",
        "from sklearn.preprocessing import StandardScaler\n",
        "from sklearn.model_selection import cross_val_score\n",
        "\n",
        "# 特徵標準化\n",
        "scaler = StandardScaler()\n",
        "X_train_scaled = scaler.fit_transform(X_train)\n",
        "X_test_scaled = scaler.transform(X_test)\n",
        "\n",
        "# 使用網格搜索尋找最佳K值\n",
        "model_param = {'n_neighbors': range(1, 21)}\n",
        "grid_search = GridSearchCV(KNeighborsClassifier(), model_param, cv=5)\n",
        "grid_search.fit(X_train_scaled, y_train)\n",
        "print(grid_search.best_params_)\n",
        "print(grid_search.best_score_)\n",
        "best_k = grid_search.best_params_['n_neighbors']\n",
        "\n",
        "# 使用最佳K值擬合新的KNN模型\n",
        "knn = KNeighborsClassifier(n_neighbors=best_k)\n",
        "knn.fit(X_train_scaled, y_train)\n",
        "\n",
        "# 預測\n",
        "y_pred_best = knn.predict(X_test_scaled)\n",
        "\n",
        "# 評估模型性能\n",
        "accuracy = accuracy_score(y_test, y_pred_best)\n",
        "classification_rep = classification_report(y_test, y_pred_best)\n",
        "\n",
        "# 分類報告\n",
        "print(f'\\nKNN Accuracy: {accuracy}\\n')\n",
        "print(f'KNN Classification Report:\\n{classification_rep}')\n",
        "\n",
        "# 使用Seaborn來繪製混淆矩陣\n",
        "conf_matrix_best = confusion_matrix(y_test, y_pred_best)\n",
        "plt.figure(figsize=(5, 3))\n",
        "sns.heatmap(conf_matrix_best, annot=True, fmt='d', cmap='YlOrBr', cbar=False,\n",
        "            xticklabels=[\"Non-Potable\", \"Potable\"],\n",
        "            yticklabels=[\"Non-Potable\", \"Potable\"])\n",
        "plt.xlabel('Predicted')\n",
        "plt.ylabel('True')\n",
        "plt.title('KNN Confusion Matrix')\n",
        "plt.show()\n",
        "\n",
        "# 交叉驗證\n",
        "cv_val_scores = cross_val_score(knn, X, y, cv=5)\n",
        "print(f\"\\nCross-Validation Scores: {cv_val_scores}\")\n",
        "print(f\"Mean Accuracy: {cv_val_scores.mean()}\")\n",
        "\n",
        "\n",
        "\n",
        "# 取Hardness和Organic_carbon特徵用於可視化\n",
        "'''如果水中鈣和鎂離子的濃度較高，則水的硬度也相對較高\n",
        "水體来源：\n",
        "如果水體源自相似的地質區域，地下水中的礦物質可能同時影響硬度和有機碳的濃度。例如，地質中豐富的碳酸鈣可能提高水的硬度，同時地下水流經有機質豐富的土壤可能導致水中有機碳的增加。\n",
        "\n",
        "人為活動：\n",
        "農業和工業活動可能同時導致水中有機碳和硬度的變化。例如，農業過程中使用的肥料可能引入有機物和養分，同時礦物的流入也可能提高水的硬度。\n",
        "\n",
        "自然處理過程：\n",
        "自然的地下水循環和生態系統的相互作用可能導致硬度和有機碳的變化。地下水流通過地層時可能溶解礦物質，影響硬度，同時地表水中的生態作用和分解可能影響有機碳的濃度。\n",
        "\n",
        "水體中的微生物活動：\n",
        "水中的微生物可能同時受到硬度和有機碳的影響。有機碳提供了微生物生長的營養源，而硬度可能影響某些微生物的生態。\n",
        "'''\n",
        "import numpy as np\n",
        "\n",
        "X_2d = X[['Hardness', 'Organic_carbon']]\n",
        "\n",
        "# 設定模型和參數\n",
        "knn_vis = KNeighborsClassifier(n_neighbors=best_k)\n",
        "\n",
        "# 訓練模型\n",
        "knn_vis.fit(X_2d, y)\n",
        "\n",
        "# 繪製決策邊界\n",
        "h = .02\n",
        "x_min, x_max = X_2d.iloc[:, 0].min() - 1, X_2d.iloc[:, 0].max() + 1\n",
        "y_min, y_max = X_2d.iloc[:, 1].min() - 1, X_2d.iloc[:, 1].max() + 1\n",
        "xx, yy = np.meshgrid(np.arange(x_min, x_max, h), np.arange(y_min, y_max, h))\n",
        "Z = knn_vis.predict(np.c_[xx.ravel(), yy.ravel()])\n",
        "Z = Z.reshape(xx.shape)\n",
        "\n",
        "# 繪製數據點和決策邊界\n",
        "plt.figure(figsize=(10, 6))\n",
        "plt.contourf(xx, yy, Z, cmap=plt.cm.coolwarm, alpha=0.3)\n",
        "plt.scatter(X_2d.iloc[:, 0], X_2d.iloc[:, 1], c=y, cmap=plt.cm.coolwarm, edgecolors='k', s=50)\n",
        "plt.xlabel('Hardness')\n",
        "plt.ylabel('Organic_carbon')\n",
        "plt.title(f'KNN Decision Boundaries (k={best_k})')\n",
        "plt.show()"
      ]
    }
  ],
  "metadata": {
    "accelerator": "GPU",
    "colab": {
      "gpuType": "T4",
      "provenance": []
    },
    "kernelspec": {
      "display_name": "Python 3",
      "name": "python3"
    },
    "language_info": {
      "codemirror_mode": {
        "name": "ipython",
        "version": 3
      },
      "file_extension": ".py",
      "mimetype": "text/x-python",
      "name": "python",
      "nbconvert_exporter": "python",
      "pygments_lexer": "ipython3",
      "version": "3.6.9"
    }
  },
  "nbformat": 4,
  "nbformat_minor": 0
}
