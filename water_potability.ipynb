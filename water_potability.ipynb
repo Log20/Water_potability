{
  "cells": [
    {
      "cell_type": "code",
      "execution_count": null,
      "metadata": {
        "id": "vyoQEKk17SIs"
      },
      "outputs": [],
      "source": [
        "# 導入函式庫以及讀取資料\n",
        "import pandas as pd\n",
        "from matplotlib import pyplot as plt\n",
        "import seaborn as sns\n",
        "from sklearn.model_selection import train_test_split, GridSearchCV, cross_val_score\n",
        "from sklearn.metrics import accuracy_score, classification_report, confusion_matrix\n",
        "from sklearn.tree import export_text, plot_tree\n",
        "from sklearn.neighbors import KNeighborsClassifier\n",
        "from sklearn.preprocessing import StandardScaler\n",
        "from sklearn.svm import SVC\n",
        "from sklearn.ensemble import RandomForestClassifier\n",
        "from sklearn.linear_model import LogisticRegression\n",
        "from sklearn.tree import DecisionTreeClassifier\n",
        "import numpy as np\n",
        "\n",
        "df = pd.read_csv(\"water_potability.csv\")"
      ]
    },
    {
      "cell_type": "code",
      "execution_count": null,
      "metadata": {
        "colab": {
          "base_uri": "https://localhost:8080/",
          "height": 1000
        },
        "id": "ZrT-mcpr7SIy",
        "outputId": "ac3b5c1e-1d86-4dba-9244-555fa228bf4a"
      },
      "outputs": [],
      "source": [
        "# 特徵分布分析\n",
        "df.hist(figsize=(15, 15))\n",
        "plt.show()"
      ]
    },
    {
      "cell_type": "code",
      "execution_count": null,
      "metadata": {
        "colab": {
          "base_uri": "https://localhost:8080/",
          "height": 740
        },
        "id": "eYXdB4Op7SIz",
        "outputId": "bb89ada3-3c11-467e-d647-c6145a16801a"
      },
      "outputs": [],
      "source": [
        "# 分析特徵相依性\n",
        "# 正數為有正關聯，負數則為負關聯\n",
        "plt.figure(figsize=(8, 8))\n",
        "corrMask = np.triu(df.corr())\n",
        "sns.heatmap(\n",
        "    df.corr(),\n",
        "    linewidths=1,\n",
        "    annot=True,\n",
        "    square=True,\n",
        "    vmin=-0.1,\n",
        "    vmax=0.1,\n",
        "    mask=corrMask,\n",
        "    cmap=\"Accent\",\n",
        ")"
      ]
    },
    {
      "cell_type": "code",
      "execution_count": null,
      "metadata": {
        "colab": {
          "base_uri": "https://localhost:8080/"
        },
        "id": "vCzhvs417SI0",
        "outputId": "923b89fe-5f2f-4812-e371-ad274628ad21"
      },
      "outputs": [],
      "source": [
        "# 填補空缺值\n",
        "empty = df.columns[df.isna().any()].tolist()\n",
        "print(\"有空缺的資料：\", empty)\n",
        "print(\"填補空缺值...\")\n",
        "for i in empty:\n",
        "    df[i].fillna(value=df[i].median(), inplace=True)\n",
        "print(\"確認填補結果：\")\n",
        "print(df.isnull().sum())"
      ]
    },
    {
      "cell_type": "code",
      "execution_count": null,
      "metadata": {
        "id": "gfdu6uSO7SI1"
      },
      "outputs": [],
      "source": [
        "# 切分特徵和目標變量\n",
        "X = df.drop(\"Potability\", axis=1)\n",
        "y = df[\"Potability\"]\n",
        "# 切分訓練集和測試集\n",
        "X_train, X_test, y_train, y_test = train_test_split(\n",
        "    X, y, test_size=0.2, random_state=42\n",
        ")"
      ]
    },
    {
      "cell_type": "code",
      "execution_count": null,
      "metadata": {},
      "outputs": [],
      "source": [
        "# 邏輯回歸\n",
        "lr_model = LogisticRegression()\n",
        "lr_model.fit(X_train, y_train)\n",
        "lr_y = lr_model.predict(X_test)\n",
        "print(accuracy_score(lr_y, y_test))\n",
        "feat_list = []\n",
        "# Make a dataframe of coefficients and feature Names\n",
        "for feature in zip(X, lr_model.coef_[0]):\n",
        "    feat_list.append(feature)\n",
        "# create dataFrame using data\n",
        "df_imp = pd.DataFrame(feat_list, columns=[\"Features\", \"Coefficienct\"])\n",
        "df_imp.sort_values(by=\"Coefficienct\", ascending=False)"
      ]
    }
  ],
  "metadata": {
    "accelerator": "GPU",
    "colab": {
      "gpuType": "T4",
      "provenance": []
    },
    "kernelspec": {
      "display_name": "Python 3",
      "name": "python3"
    },
    "language_info": {
      "codemirror_mode": {
        "name": "ipython",
        "version": 3
      },
      "file_extension": ".py",
      "mimetype": "text/x-python",
      "name": "python",
      "nbconvert_exporter": "python",
      "pygments_lexer": "ipython3",
      "version": "3.11.7"
    }
  },
  "nbformat": 4,
  "nbformat_minor": 0
}