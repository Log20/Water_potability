{
  "cells": [
    {
      "cell_type": "code",
      "execution_count": null,
      "metadata": {
        "id": "vyoQEKk17SIs"
      },
      "outputs": [],
      "source": [
        "# 導入函式庫以及讀取資料\n",
        "import pandas as pd\n",
        "from matplotlib import pyplot as plt\n",
        "import seaborn as sns\n",
        "from sklearn.model_selection import train_test_split, GridSearchCV, cross_val_score\n",
        "from sklearn.metrics import accuracy_score, classification_report, confusion_matrix\n",
        "from sklearn.tree import export_text, plot_tree\n",
        "from sklearn.neighbors import KNeighborsClassifier\n",
        "from sklearn.preprocessing import StandardScaler\n",
        "from sklearn.svm import SVC\n",
        "from sklearn.ensemble import RandomForestClassifier\n",
        "from sklearn.linear_model import LogisticRegression\n",
        "from sklearn.tree import DecisionTreeClassifier\n",
        "import numpy as np\n",
        "\n",
        "df = pd.read_csv(\"water_potability.csv\")"
      ]
    },
    {
      "cell_type": "code",
      "execution_count": null,
      "metadata": {
        "colab": {
          "base_uri": "https://localhost:8080/",
          "height": 1000
        },
        "id": "ZrT-mcpr7SIy",
        "outputId": "ac3b5c1e-1d86-4dba-9244-555fa228bf4a"
      },
      "outputs": [],
      "source": [
        "# 特徵分布分析\n",
        "df.hist(figsize=(15, 15))\n",
        "plt.show()"
      ]
    },
    {
      "cell_type": "code",
      "execution_count": null,
      "metadata": {
        "colab": {
          "base_uri": "https://localhost:8080/",
          "height": 740
        },
        "id": "eYXdB4Op7SIz",
        "outputId": "bb89ada3-3c11-467e-d647-c6145a16801a"
      },
      "outputs": [],
      "source": [
        "# 分析特徵相依性\n",
        "plt.figure(figsize=(8, 8))\n",
        "sns.heatmap(df.corr(), annot=True, linewidths=1, square=True)"
      ]
    },
    {
      "cell_type": "code",
      "execution_count": null,
      "metadata": {
        "colab": {
          "base_uri": "https://localhost:8080/"
        },
        "id": "vCzhvs417SI0",
        "outputId": "923b89fe-5f2f-4812-e371-ad274628ad21"
      },
      "outputs": [],
      "source": [
        "# 填補空缺值\n",
        "print(df.isnull().sum())\n",
        "print(\"----------------\")\n",
        "print(\"填補空缺值...\")\n",
        "df[\"ph\"].fillna(value=df[\"ph\"].median(), inplace=True)\n",
        "df[\"Sulfate\"].fillna(value=df[\"Sulfate\"].median(), inplace=True)\n",
        "df[\"Trihalomethanes\"].fillna(value=df[\"Trihalomethanes\"].median(), inplace=True)\n",
        "print(\"----------------\")\n",
        "print(\"確認填補結果：\")\n",
        "print(df.isnull().sum())"
      ]
    },
    {
      "cell_type": "code",
      "execution_count": null,
      "metadata": {
        "id": "gfdu6uSO7SI1"
      },
      "outputs": [],
      "source": [
        "# 切分特徵和目標變量\n",
        "X = df.drop(\"Potability\", axis=1)\n",
        "y = df[\"Potability\"]\n",
        "# 切分訓練集和測試集\n",
        "X_train, X_test, y_train, y_test = train_test_split(\n",
        "    X, y, test_size=0.2, random_state=42\n",
        ")"
      ]
    },
    {
      "cell_type": "code",
      "execution_count": null,
      "metadata": {},
      "outputs": [],
      "source": [
        "# SVM\n",
        "# 初始化 SVM 分類器\n",
        "svm_classifier = SVC(kernel=\"linear\")\n",
        "\n",
        "# 訓練 SVM 模型\n",
        "svm_classifier.fit(X_train, y_train)\n",
        "\n",
        "# 使用測試集進行預測\n",
        "y_pred = svm_classifier.predict(X_test)\n",
        "\n",
        "# 評估模型準確率\n",
        "accuracy = accuracy_score(y_test, y_pred)\n",
        "print(f\"模型準確率：{accuracy:.2f}\")\n",
        "\n",
        "# 顯示分類報告\n",
        "print(\"分類報告：\")\n",
        "print(classification_report(y_test, y_pred))\n",
        "\n",
        "# 混淆矩陣\n",
        "conf_matrix = confusion_matrix(y_test, y_pred)\n",
        "\n",
        "# 顯示混淆矩陣\n",
        "plt.figure(figsize=(8, 6))\n",
        "sns.heatmap(\n",
        "    conf_matrix,\n",
        "    annot=True,\n",
        "    fmt=\"d\",\n",
        "    cmap=\"Blues\",\n",
        "    cbar=False,\n",
        "    xticklabels=[\"Not Potable\", \"Potable\"],\n",
        "    yticklabels=[\"Not Potable\", \"Potable\"],\n",
        ")\n",
        "plt.title(\"confusion_matrix\")\n",
        "plt.xlabel(\"predicted\")\n",
        "plt.ylabel(\"true\")\n",
        "plt.show()\n",
        "\n",
        "\n",
        "# 添加目標變量到 DataFrame\n",
        "df[\"Target\"] = y\n",
        "\n",
        "# 繪製 Pair Plot\n",
        "sns.pairplot(df, hue=\"Target\", markers=[\"o\", \"s\"])\n",
        "plt.title(\"Pair Plot for Multi-dimensional Data\")\n",
        "plt.show()\n",
        "\n",
        "# 獲取特徵重要性（權重）\n",
        "feature_importance = svm_classifier.coef_[0]\n",
        "\n",
        "# 顯示特徵重要性\n",
        "plt.bar(range(len(feature_importance)), feature_importance)\n",
        "plt.xticks(range(len(feature_importance)), X.columns, rotation=45)\n",
        "plt.xlabel(\"Features\")\n",
        "plt.ylabel(\"Coefficient Magnitude\")\n",
        "plt.title(\"Feature Importance for SVM\")\n",
        "plt.show()"
      ]
    },
    {
      "cell_type": "code",
      "execution_count": null,
      "metadata": {},
      "outputs": [],
      "source": [
        "# RandomForest\n",
        "# 創建一個隨機森林分類器\n",
        "rf_classifier = RandomForestClassifier(n_estimators=100, random_state=42)\n",
        "\n",
        "# 訓練模型\n",
        "rf_classifier.fit(X_train, y_train)\n",
        "\n",
        "# 使用測試集進行預測\n",
        "y_pred = rf_classifier.predict(X_test)\n",
        "\n",
        "# 計算模型的準確度\n",
        "accuracy = accuracy_score(y_test, y_pred)\n",
        "print(f\"模型的準確度: {accuracy}\")\n",
        "\n",
        "# 列印分類報告\n",
        "report = classification_report(y_test, y_pred)\n",
        "print(\"分類報告:\\n\", report)\n",
        "\n",
        "# 混淆矩陣\n",
        "conf_matrix = confusion_matrix(y_test, y_pred)\n",
        "\n",
        "# 顯示混淆矩陣\n",
        "plt.figure(figsize=(8, 6))\n",
        "sns.heatmap(\n",
        "    conf_matrix,\n",
        "    annot=True,\n",
        "    fmt=\"d\",\n",
        "    cmap=\"Blues\",\n",
        "    cbar=False,\n",
        "    xticklabels=[\"Not Potable\", \"Potable\"],\n",
        "    yticklabels=[\"Not Potable\", \"Potable\"],\n",
        ")\n",
        "plt.title(\"confusion_matrix\")\n",
        "plt.xlabel(\"predicted\")\n",
        "plt.ylabel(\"true\")\n",
        "plt.show()"
      ]
    }
  ],
  "metadata": {
    "accelerator": "GPU",
    "colab": {
      "gpuType": "T4",
      "provenance": []
    },
    "kernelspec": {
      "display_name": "Python 3",
      "name": "python3"
    },
    "language_info": {
      "codemirror_mode": {
        "name": "ipython",
        "version": 3
      },
      "file_extension": ".py",
      "mimetype": "text/x-python",
      "name": "python",
      "nbconvert_exporter": "python",
      "pygments_lexer": "ipython3",
      "version": "3.11.7"
    }
  },
  "nbformat": 4,
  "nbformat_minor": 0
}
